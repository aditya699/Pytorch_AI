{
 "cells": [
  {
   "cell_type": "markdown",
   "metadata": {},
   "source": [
    "Note - This is just for testing purposes"
   ]
  },
  {
   "cell_type": "code",
   "execution_count": 1,
   "metadata": {},
   "outputs": [],
   "source": [
    "#import modules\n",
    "import pandas as pd\n",
    "import numpy as np"
   ]
  },
  {
   "cell_type": "code",
   "execution_count": 8,
   "metadata": {},
   "outputs": [
    {
     "name": "stdout",
     "output_type": "stream",
     "text": [
      "From Date             0\n",
      "To Date               0\n",
      "PM2.5 (ug/m3)      4827\n",
      "PM10 (ug/m3)       4700\n",
      "NO (ug/m3)         3997\n",
      "NO2 (ug/m3)        4050\n",
      "NOx (ppb)          3835\n",
      "NH3 (ug/m3)        5586\n",
      "SO2 (ug/m3)        4865\n",
      "CO (mg/m3)         4477\n",
      "Ozone (ug/m3)      4583\n",
      "Benzene (ug/m3)    3937\n",
      "Toluene (ug/m3)    3937\n",
      "Temp (degree C)    4037\n",
      "RH (%)             3869\n",
      "WS (m/s)           3851\n",
      "WD (deg)           4494\n",
      "SR (W/mt2)         4561\n",
      "VWS (m/s)          3809\n",
      "Xylene (ug/m3)     3950\n",
      "RF (mm)            3865\n",
      "AT (degree C)      4063\n",
      "dtype: int64\n",
      "(59150, 22)\n",
      "(47840, 22)\n"
     ]
    },
    {
     "data": {
      "text/plain": [
       "(47840, 20)"
      ]
     },
     "execution_count": 8,
     "metadata": {},
     "output_type": "execute_result"
    }
   ],
   "source": [
    "# Load the data \n",
    "data=pd.read_csv('C:/Users/aditya/Desktop/2023/Deep Learning/ANN_PROJECT_2/Data/AP001.csv')\n",
    "data.drop(['BP (mmHg)'],axis=1,inplace=True)\n",
    "print(data.isnull().sum())\n",
    "print(data.shape)\n",
    "data.dropna(inplace=True)\n",
    "print(data.shape)\n",
    "data.drop(['From Date','To Date'],inplace=True,axis=1)\n",
    "data.shape"
   ]
  },
  {
   "cell_type": "code",
   "execution_count": 6,
   "metadata": {},
   "outputs": [
    {
     "data": {
      "text/plain": [
       "Index(['From Date', 'To Date', 'PM2.5 (ug/m3)', 'PM10 (ug/m3)', 'NO (ug/m3)',\n",
       "       'NO2 (ug/m3)', 'NOx (ppb)', 'NH3 (ug/m3)', 'SO2 (ug/m3)', 'CO (mg/m3)',\n",
       "       'Ozone (ug/m3)', 'Benzene (ug/m3)', 'Toluene (ug/m3)',\n",
       "       'Temp (degree C)', 'RH (%)', 'WS (m/s)', 'WD (deg)', 'SR (W/mt2)',\n",
       "       'BP (mmHg)', 'VWS (m/s)', 'Xylene (ug/m3)', 'RF (mm)', 'AT (degree C)'],\n",
       "      dtype='object')"
      ]
     },
     "execution_count": 6,
     "metadata": {},
     "output_type": "execute_result"
    }
   ],
   "source": [
    "data.columns"
   ]
  }
 ],
 "metadata": {
  "kernelspec": {
   "display_name": "base",
   "language": "python",
   "name": "python3"
  },
  "language_info": {
   "codemirror_mode": {
    "name": "ipython",
    "version": 3
   },
   "file_extension": ".py",
   "mimetype": "text/x-python",
   "name": "python",
   "nbconvert_exporter": "python",
   "pygments_lexer": "ipython3",
   "version": "3.7.6"
  }
 },
 "nbformat": 4,
 "nbformat_minor": 2
}
